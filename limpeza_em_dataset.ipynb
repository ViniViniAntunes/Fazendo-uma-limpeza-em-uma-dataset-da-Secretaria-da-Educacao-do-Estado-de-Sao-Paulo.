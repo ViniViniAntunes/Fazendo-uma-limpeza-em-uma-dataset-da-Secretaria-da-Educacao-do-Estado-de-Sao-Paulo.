{
  "nbformat": 4,
  "nbformat_minor": 0,
  "metadata": {
    "kernelspec": {
      "display_name": "Python 3",
      "language": "python",
      "name": "python3"
    },
    "language_info": {
      "codemirror_mode": {
        "name": "ipython",
        "version": 3
      },
      "file_extension": ".py",
      "mimetype": "text/x-python",
      "name": "python",
      "nbconvert_exporter": "python",
      "pygments_lexer": "ipython3",
      "version": "3.7.4"
    },
    "colab": {
      "name": "limpeza_em_dataset.ipynb",
      "provenance": [],
      "include_colab_link": true
    }
  },
  "cells": [
    {
      "cell_type": "markdown",
      "metadata": {
        "id": "view-in-github",
        "colab_type": "text"
      },
      "source": [
        "<a href=\"https://colab.research.google.com/github/ViniViniAntunes/Fazendo-uma-limpeza-em-uma-dataset-da-Secretaria-da-Educacao-do-Estado-de-Sao-Paulo./blob/master/limpeza_em_dataset.ipynb\" target=\"_parent\"><img src=\"https://colab.research.google.com/assets/colab-badge.svg\" alt=\"Open In Colab\"/></a>"
      ]
    },
    {
      "cell_type": "markdown",
      "metadata": {
        "id": "MH_i7ERwhlQE",
        "colab_type": "text"
      },
      "source": [
        "# Fazendo uma limpeza em uma dataset da Secretaria da Educação do Estado de São Paulo.\n",
        "___\n",
        "### Os dados foram baixados do link:\n",
        "  https://dados.educacao.sp.gov.br/dataset/profici%C3%AAncia-do-sistema-de-avalia%C3%A7%C3%A3o-de-rendimento-escolar-do-estado-de-s%C3%A3o-paulo-saresp-por\n",
        "\n",
        "### Na data 05/04/2020"
      ]
    },
    {
      "cell_type": "markdown",
      "metadata": {
        "id": "vEhoa6vdiZhR",
        "colab_type": "text"
      },
      "source": [
        "### A limpeza foi feita por:\n",
        "\n",
        "#### Nome: Vini Antunes\n",
        "#### O que faz: professor de Física e estudande de Data Science\n",
        "#### Github: https://github.com/ViniViniAntunes\n",
        "#### LinkedIn: https://www.linkedin.com/in/vini-antunes/"
      ]
    },
    {
      "cell_type": "code",
      "metadata": {
        "id": "zkCLUR9YcEZz",
        "colab_type": "code",
        "colab": {}
      },
      "source": [
        "# Importando as bibliotecas utilizadas\n",
        "import pandas as pd\n",
        "import warnings\n",
        "warnings.filterwarnings(action='ignore')"
      ],
      "execution_count": 0,
      "outputs": []
    },
    {
      "cell_type": "code",
      "metadata": {
        "id": "NS4Bdj3ZcEZ6",
        "colab_type": "code",
        "colab": {
          "base_uri": "https://localhost:8080/",
          "height": 197
        },
        "outputId": "52fc4357-d437-4340-bbee-c519da7b0b22"
      },
      "source": [
        "# Baixando o .csv e colocando em uma variável\n",
        "saresp = pd.read_csv('SARESP_escolas_2015.csv', sep=';')\n",
        "\n",
        "# Visualizando os 5 primeiros linhas do DataFrame\n",
        "saresp.head(5)"
      ],
      "execution_count": 59,
      "outputs": [
        {
          "output_type": "execute_result",
          "data": {
            "text/html": [
              "<div>\n",
              "<style scoped>\n",
              "    .dataframe tbody tr th:only-of-type {\n",
              "        vertical-align: middle;\n",
              "    }\n",
              "\n",
              "    .dataframe tbody tr th {\n",
              "        vertical-align: top;\n",
              "    }\n",
              "\n",
              "    .dataframe thead th {\n",
              "        text-align: right;\n",
              "    }\n",
              "</style>\n",
              "<table border=\"1\" class=\"dataframe\">\n",
              "  <thead>\n",
              "    <tr style=\"text-align: right;\">\n",
              "      <th></th>\n",
              "      <th>DEPADM</th>\n",
              "      <th>DepBol</th>\n",
              "      <th>NomeDepBol</th>\n",
              "      <th>codRMet</th>\n",
              "      <th>CODESC</th>\n",
              "      <th>NOMESC</th>\n",
              "      <th>SERIE_ANO</th>\n",
              "      <th>cod_per</th>\n",
              "      <th>periodo</th>\n",
              "      <th>co_comp</th>\n",
              "      <th>ds_comp</th>\n",
              "      <th>medprof</th>\n",
              "    </tr>\n",
              "  </thead>\n",
              "  <tbody>\n",
              "    <tr>\n",
              "      <th>0</th>\n",
              "      <td>1</td>\n",
              "      <td>1</td>\n",
              "      <td>Rede Estadual</td>\n",
              "      <td>1</td>\n",
              "      <td>12</td>\n",
              "      <td>AYRES DE MOURA PROFESSOR                      ...</td>\n",
              "      <td>7º Ano EF</td>\n",
              "      <td>1</td>\n",
              "      <td>MANHA</td>\n",
              "      <td>1</td>\n",
              "      <td>LÍNGUA PORTUGUESA</td>\n",
              "      <td>222,8</td>\n",
              "    </tr>\n",
              "    <tr>\n",
              "      <th>1</th>\n",
              "      <td>1</td>\n",
              "      <td>1</td>\n",
              "      <td>Rede Estadual</td>\n",
              "      <td>1</td>\n",
              "      <td>12</td>\n",
              "      <td>AYRES DE MOURA PROFESSOR                      ...</td>\n",
              "      <td>7º Ano EF</td>\n",
              "      <td>1</td>\n",
              "      <td>MANHA</td>\n",
              "      <td>2</td>\n",
              "      <td>MATEMÁTICA</td>\n",
              "      <td>227,2</td>\n",
              "    </tr>\n",
              "    <tr>\n",
              "      <th>2</th>\n",
              "      <td>1</td>\n",
              "      <td>1</td>\n",
              "      <td>Rede Estadual</td>\n",
              "      <td>1</td>\n",
              "      <td>12</td>\n",
              "      <td>AYRES DE MOURA PROFESSOR                      ...</td>\n",
              "      <td>7º Ano EF</td>\n",
              "      <td>9</td>\n",
              "      <td>GERAL</td>\n",
              "      <td>1</td>\n",
              "      <td>LÍNGUA PORTUGUESA</td>\n",
              "      <td>222,8</td>\n",
              "    </tr>\n",
              "    <tr>\n",
              "      <th>3</th>\n",
              "      <td>1</td>\n",
              "      <td>1</td>\n",
              "      <td>Rede Estadual</td>\n",
              "      <td>1</td>\n",
              "      <td>12</td>\n",
              "      <td>AYRES DE MOURA PROFESSOR                      ...</td>\n",
              "      <td>7º Ano EF</td>\n",
              "      <td>9</td>\n",
              "      <td>GERAL</td>\n",
              "      <td>2</td>\n",
              "      <td>MATEMÁTICA</td>\n",
              "      <td>227,2</td>\n",
              "    </tr>\n",
              "    <tr>\n",
              "      <th>4</th>\n",
              "      <td>1</td>\n",
              "      <td>1</td>\n",
              "      <td>Rede Estadual</td>\n",
              "      <td>1</td>\n",
              "      <td>12</td>\n",
              "      <td>AYRES DE MOURA PROFESSOR                      ...</td>\n",
              "      <td>9º Ano EF</td>\n",
              "      <td>1</td>\n",
              "      <td>MANHA</td>\n",
              "      <td>1</td>\n",
              "      <td>LÍNGUA PORTUGUESA</td>\n",
              "      <td>231,6</td>\n",
              "    </tr>\n",
              "  </tbody>\n",
              "</table>\n",
              "</div>"
            ],
            "text/plain": [
              "   DEPADM  DepBol     NomeDepBol  ...  co_comp            ds_comp medprof\n",
              "0       1       1  Rede Estadual  ...        1  LÍNGUA PORTUGUESA   222,8\n",
              "1       1       1  Rede Estadual  ...        2         MATEMÁTICA   227,2\n",
              "2       1       1  Rede Estadual  ...        1  LÍNGUA PORTUGUESA   222,8\n",
              "3       1       1  Rede Estadual  ...        2         MATEMÁTICA   227,2\n",
              "4       1       1  Rede Estadual  ...        1  LÍNGUA PORTUGUESA   231,6\n",
              "\n",
              "[5 rows x 12 columns]"
            ]
          },
          "metadata": {
            "tags": []
          },
          "execution_count": 59
        }
      ]
    },
    {
      "cell_type": "code",
      "metadata": {
        "id": "8X-t7axhcEaA",
        "colab_type": "code",
        "colab": {
          "base_uri": "https://localhost:8080/",
          "height": 34
        },
        "outputId": "c4217e2c-3fa1-46f3-d97e-73a630838f37"
      },
      "source": [
        "# Mostrando o tamanho do DataFrame\n",
        "saresp.shape"
      ],
      "execution_count": 60,
      "outputs": [
        {
          "output_type": "execute_result",
          "data": {
            "text/plain": [
              "(54828, 12)"
            ]
          },
          "metadata": {
            "tags": []
          },
          "execution_count": 60
        }
      ]
    },
    {
      "cell_type": "code",
      "metadata": {
        "id": "nBtqraA7cEaE",
        "colab_type": "code",
        "colab": {
          "base_uri": "https://localhost:8080/",
          "height": 354
        },
        "outputId": "768c8297-7743-4eac-b144-16e0b8eaed50"
      },
      "source": [
        "# Observando quantos dados nulos tem o DataFrame\n",
        "saresp.info()"
      ],
      "execution_count": 61,
      "outputs": [
        {
          "output_type": "stream",
          "text": [
            "<class 'pandas.core.frame.DataFrame'>\n",
            "RangeIndex: 54828 entries, 0 to 54827\n",
            "Data columns (total 12 columns):\n",
            " #   Column      Non-Null Count  Dtype \n",
            "---  ------      --------------  ----- \n",
            " 0   DEPADM      54828 non-null  int64 \n",
            " 1   DepBol      54828 non-null  int64 \n",
            " 2   NomeDepBol  54828 non-null  object\n",
            " 3   codRMet     54828 non-null  int64 \n",
            " 4   CODESC      54828 non-null  int64 \n",
            " 5   NOMESC      54828 non-null  object\n",
            " 6   SERIE_ANO   54828 non-null  object\n",
            " 7   cod_per     54828 non-null  int64 \n",
            " 8   periodo     54828 non-null  object\n",
            " 9   co_comp     54828 non-null  int64 \n",
            " 10  ds_comp     54828 non-null  object\n",
            " 11  medprof     52826 non-null  object\n",
            "dtypes: int64(6), object(6)\n",
            "memory usage: 5.0+ MB\n"
          ],
          "name": "stdout"
        }
      ]
    },
    {
      "cell_type": "code",
      "metadata": {
        "id": "38NksrA6cEaJ",
        "colab_type": "code",
        "colab": {
          "base_uri": "https://localhost:8080/",
          "height": 247
        },
        "outputId": "d2e59b27-409a-4de2-c9fe-608d041837dc"
      },
      "source": [
        "# Observando quantos dados nulos tem o DataFrame de forma mais clara\n",
        "saresp.isnull().sum()"
      ],
      "execution_count": 62,
      "outputs": [
        {
          "output_type": "execute_result",
          "data": {
            "text/plain": [
              "DEPADM           0\n",
              "DepBol           0\n",
              "NomeDepBol       0\n",
              "codRMet          0\n",
              "CODESC           0\n",
              "NOMESC           0\n",
              "SERIE_ANO        0\n",
              "cod_per          0\n",
              "periodo          0\n",
              "co_comp          0\n",
              "ds_comp          0\n",
              "medprof       2002\n",
              "dtype: int64"
            ]
          },
          "metadata": {
            "tags": []
          },
          "execution_count": 62
        }
      ]
    },
    {
      "cell_type": "code",
      "metadata": {
        "id": "WMgTDXXRdbtx",
        "colab_type": "code",
        "colab": {
          "base_uri": "https://localhost:8080/",
          "height": 281
        },
        "outputId": "af11e1a0-1732-4119-87b0-54a72aa564bf"
      },
      "source": [
        "# Criando uma coluna nova ('tipo_var_medprof') com os tipos das variáveis em cada linha da coluna 'medprof'\n",
        "tipos_var = []\n",
        "for valor in saresp['medprof']:\n",
        "  tipos_var.append(type(valor))\n",
        "saresp['tipo_var_medprof'] = tipos_var\n",
        "saresp.head(5)"
      ],
      "execution_count": 63,
      "outputs": [
        {
          "output_type": "execute_result",
          "data": {
            "text/html": [
              "<div>\n",
              "<style scoped>\n",
              "    .dataframe tbody tr th:only-of-type {\n",
              "        vertical-align: middle;\n",
              "    }\n",
              "\n",
              "    .dataframe tbody tr th {\n",
              "        vertical-align: top;\n",
              "    }\n",
              "\n",
              "    .dataframe thead th {\n",
              "        text-align: right;\n",
              "    }\n",
              "</style>\n",
              "<table border=\"1\" class=\"dataframe\">\n",
              "  <thead>\n",
              "    <tr style=\"text-align: right;\">\n",
              "      <th></th>\n",
              "      <th>DEPADM</th>\n",
              "      <th>DepBol</th>\n",
              "      <th>NomeDepBol</th>\n",
              "      <th>codRMet</th>\n",
              "      <th>CODESC</th>\n",
              "      <th>NOMESC</th>\n",
              "      <th>SERIE_ANO</th>\n",
              "      <th>cod_per</th>\n",
              "      <th>periodo</th>\n",
              "      <th>co_comp</th>\n",
              "      <th>ds_comp</th>\n",
              "      <th>medprof</th>\n",
              "      <th>tipo_var_medprof</th>\n",
              "    </tr>\n",
              "  </thead>\n",
              "  <tbody>\n",
              "    <tr>\n",
              "      <th>0</th>\n",
              "      <td>1</td>\n",
              "      <td>1</td>\n",
              "      <td>Rede Estadual</td>\n",
              "      <td>1</td>\n",
              "      <td>12</td>\n",
              "      <td>AYRES DE MOURA PROFESSOR                      ...</td>\n",
              "      <td>7º Ano EF</td>\n",
              "      <td>1</td>\n",
              "      <td>MANHA</td>\n",
              "      <td>1</td>\n",
              "      <td>LÍNGUA PORTUGUESA</td>\n",
              "      <td>222,8</td>\n",
              "      <td>&lt;class 'str'&gt;</td>\n",
              "    </tr>\n",
              "    <tr>\n",
              "      <th>1</th>\n",
              "      <td>1</td>\n",
              "      <td>1</td>\n",
              "      <td>Rede Estadual</td>\n",
              "      <td>1</td>\n",
              "      <td>12</td>\n",
              "      <td>AYRES DE MOURA PROFESSOR                      ...</td>\n",
              "      <td>7º Ano EF</td>\n",
              "      <td>1</td>\n",
              "      <td>MANHA</td>\n",
              "      <td>2</td>\n",
              "      <td>MATEMÁTICA</td>\n",
              "      <td>227,2</td>\n",
              "      <td>&lt;class 'str'&gt;</td>\n",
              "    </tr>\n",
              "    <tr>\n",
              "      <th>2</th>\n",
              "      <td>1</td>\n",
              "      <td>1</td>\n",
              "      <td>Rede Estadual</td>\n",
              "      <td>1</td>\n",
              "      <td>12</td>\n",
              "      <td>AYRES DE MOURA PROFESSOR                      ...</td>\n",
              "      <td>7º Ano EF</td>\n",
              "      <td>9</td>\n",
              "      <td>GERAL</td>\n",
              "      <td>1</td>\n",
              "      <td>LÍNGUA PORTUGUESA</td>\n",
              "      <td>222,8</td>\n",
              "      <td>&lt;class 'str'&gt;</td>\n",
              "    </tr>\n",
              "    <tr>\n",
              "      <th>3</th>\n",
              "      <td>1</td>\n",
              "      <td>1</td>\n",
              "      <td>Rede Estadual</td>\n",
              "      <td>1</td>\n",
              "      <td>12</td>\n",
              "      <td>AYRES DE MOURA PROFESSOR                      ...</td>\n",
              "      <td>7º Ano EF</td>\n",
              "      <td>9</td>\n",
              "      <td>GERAL</td>\n",
              "      <td>2</td>\n",
              "      <td>MATEMÁTICA</td>\n",
              "      <td>227,2</td>\n",
              "      <td>&lt;class 'str'&gt;</td>\n",
              "    </tr>\n",
              "    <tr>\n",
              "      <th>4</th>\n",
              "      <td>1</td>\n",
              "      <td>1</td>\n",
              "      <td>Rede Estadual</td>\n",
              "      <td>1</td>\n",
              "      <td>12</td>\n",
              "      <td>AYRES DE MOURA PROFESSOR                      ...</td>\n",
              "      <td>9º Ano EF</td>\n",
              "      <td>1</td>\n",
              "      <td>MANHA</td>\n",
              "      <td>1</td>\n",
              "      <td>LÍNGUA PORTUGUESA</td>\n",
              "      <td>231,6</td>\n",
              "      <td>&lt;class 'str'&gt;</td>\n",
              "    </tr>\n",
              "  </tbody>\n",
              "</table>\n",
              "</div>"
            ],
            "text/plain": [
              "   DEPADM  DepBol     NomeDepBol  ...            ds_comp  medprof tipo_var_medprof\n",
              "0       1       1  Rede Estadual  ...  LÍNGUA PORTUGUESA    222,8    <class 'str'>\n",
              "1       1       1  Rede Estadual  ...         MATEMÁTICA    227,2    <class 'str'>\n",
              "2       1       1  Rede Estadual  ...  LÍNGUA PORTUGUESA    222,8    <class 'str'>\n",
              "3       1       1  Rede Estadual  ...         MATEMÁTICA    227,2    <class 'str'>\n",
              "4       1       1  Rede Estadual  ...  LÍNGUA PORTUGUESA    231,6    <class 'str'>\n",
              "\n",
              "[5 rows x 13 columns]"
            ]
          },
          "metadata": {
            "tags": []
          },
          "execution_count": 63
        }
      ]
    },
    {
      "cell_type": "markdown",
      "metadata": {
        "id": "QCBcBa7yai39",
        "colab_type": "text"
      },
      "source": [
        "### Note que temos dois tipos de variáveis na coluna 'medprof', string e float. Isso nos impede de fazer qualquer tipo de conta com os valores dessa coluna. Como por exemplo, fazer a substituição dos valores nulos pela média dos valores da coluna."
      ]
    },
    {
      "cell_type": "code",
      "metadata": {
        "id": "HoRj9fhRdbq-",
        "colab_type": "code",
        "colab": {
          "base_uri": "https://localhost:8080/",
          "height": 34
        },
        "outputId": "89509e4a-9c77-41dc-d532-b929bc8f3aa5"
      },
      "source": [
        "# Mostrando os diferentes tipos de variáveis\n",
        "saresp['tipo_var_medprof'].unique()"
      ],
      "execution_count": 64,
      "outputs": [
        {
          "output_type": "execute_result",
          "data": {
            "text/plain": [
              "array([<class 'str'>, <class 'float'>], dtype=object)"
            ]
          },
          "metadata": {
            "tags": []
          },
          "execution_count": 64
        }
      ]
    },
    {
      "cell_type": "markdown",
      "metadata": {
        "id": "ckhjVRCca-Rr",
        "colab_type": "text"
      },
      "source": [
        "### Se quisermos realizar contas que quisermos com esses valores, teremos que trocar as variáveis do tipo string para o tipo float. Porém, essas que são do tipo string, estão escritas com vígula ' , ' no lugar do ponto ' . '. Então temos dois problemas para resolver:\n",
        "<ol>\n",
        "  <li> Trocar a vírgula por um ponto ( , por . ); </li>\n",
        "  <li> Trocar para o tipo float todas as variáveis que forem do tipo string </li>\n",
        "</ol>"
      ]
    },
    {
      "cell_type": "markdown",
      "metadata": {
        "id": "WcBZQ0J0gCIo",
        "colab_type": "text"
      },
      "source": [
        "### Resolvendo os problemas"
      ]
    },
    {
      "cell_type": "code",
      "metadata": {
        "id": "Q-e2Igwndbo2",
        "colab_type": "code",
        "colab": {
          "base_uri": "https://localhost:8080/",
          "height": 34
        },
        "outputId": "6f719d98-f736-45c4-ab41-ae879f4e802b"
      },
      "source": [
        "# ANTES da transformação\n",
        "print('{} do tipo {}'.format(saresp['medprof'][0], type(saresp['medprof'][0])))"
      ],
      "execution_count": 65,
      "outputs": [
        {
          "output_type": "stream",
          "text": [
            "222,8 do tipo <class 'str'>\n"
          ],
          "name": "stdout"
        }
      ]
    },
    {
      "cell_type": "code",
      "metadata": {
        "id": "BqaAS1DxdbJO",
        "colab_type": "code",
        "colab": {}
      },
      "source": [
        "# Troca o caracter ',' pelo caracter '.' e transforma do tipo string para o tipo float\n",
        "for pos, item in enumerate(saresp['medprof']):\n",
        "    if type(item) == str:\n",
        "        saresp['medprof'][pos] = float(item.replace(',', '.'))"
      ],
      "execution_count": 0,
      "outputs": []
    },
    {
      "cell_type": "code",
      "metadata": {
        "id": "AgTDHBqGdbB5",
        "colab_type": "code",
        "colab": {
          "base_uri": "https://localhost:8080/",
          "height": 34
        },
        "outputId": "5b243873-85df-4c38-d14b-e4bd80110c0e"
      },
      "source": [
        "# DEPOIS da transformação\n",
        "print('{} do tipo {}'.format(saresp['medprof'][0], type(saresp['medprof'][0])))"
      ],
      "execution_count": 67,
      "outputs": [
        {
          "output_type": "stream",
          "text": [
            "222.8 do tipo <class 'float'>\n"
          ],
          "name": "stdout"
        }
      ]
    },
    {
      "cell_type": "code",
      "metadata": {
        "id": "bBbFTEZgda2b",
        "colab_type": "code",
        "colab": {
          "base_uri": "https://localhost:8080/",
          "height": 281
        },
        "outputId": "eb2784aa-c194-47e9-d1bc-90b934680a0d"
      },
      "source": [
        "# Atualizando a coluna 'tipo_var_medprof' com os novos tipos das variáveis da coluna 'medprof'\n",
        "tipos_var = []\n",
        "for valor in saresp['medprof']:\n",
        "  tipos_var.append(type(valor))\n",
        "saresp['tipo_var_medprof'] = tipos_var\n",
        "saresp.head(5) "
      ],
      "execution_count": 68,
      "outputs": [
        {
          "output_type": "execute_result",
          "data": {
            "text/html": [
              "<div>\n",
              "<style scoped>\n",
              "    .dataframe tbody tr th:only-of-type {\n",
              "        vertical-align: middle;\n",
              "    }\n",
              "\n",
              "    .dataframe tbody tr th {\n",
              "        vertical-align: top;\n",
              "    }\n",
              "\n",
              "    .dataframe thead th {\n",
              "        text-align: right;\n",
              "    }\n",
              "</style>\n",
              "<table border=\"1\" class=\"dataframe\">\n",
              "  <thead>\n",
              "    <tr style=\"text-align: right;\">\n",
              "      <th></th>\n",
              "      <th>DEPADM</th>\n",
              "      <th>DepBol</th>\n",
              "      <th>NomeDepBol</th>\n",
              "      <th>codRMet</th>\n",
              "      <th>CODESC</th>\n",
              "      <th>NOMESC</th>\n",
              "      <th>SERIE_ANO</th>\n",
              "      <th>cod_per</th>\n",
              "      <th>periodo</th>\n",
              "      <th>co_comp</th>\n",
              "      <th>ds_comp</th>\n",
              "      <th>medprof</th>\n",
              "      <th>tipo_var_medprof</th>\n",
              "    </tr>\n",
              "  </thead>\n",
              "  <tbody>\n",
              "    <tr>\n",
              "      <th>0</th>\n",
              "      <td>1</td>\n",
              "      <td>1</td>\n",
              "      <td>Rede Estadual</td>\n",
              "      <td>1</td>\n",
              "      <td>12</td>\n",
              "      <td>AYRES DE MOURA PROFESSOR                      ...</td>\n",
              "      <td>7º Ano EF</td>\n",
              "      <td>1</td>\n",
              "      <td>MANHA</td>\n",
              "      <td>1</td>\n",
              "      <td>LÍNGUA PORTUGUESA</td>\n",
              "      <td>222.8</td>\n",
              "      <td>&lt;class 'float'&gt;</td>\n",
              "    </tr>\n",
              "    <tr>\n",
              "      <th>1</th>\n",
              "      <td>1</td>\n",
              "      <td>1</td>\n",
              "      <td>Rede Estadual</td>\n",
              "      <td>1</td>\n",
              "      <td>12</td>\n",
              "      <td>AYRES DE MOURA PROFESSOR                      ...</td>\n",
              "      <td>7º Ano EF</td>\n",
              "      <td>1</td>\n",
              "      <td>MANHA</td>\n",
              "      <td>2</td>\n",
              "      <td>MATEMÁTICA</td>\n",
              "      <td>227.2</td>\n",
              "      <td>&lt;class 'float'&gt;</td>\n",
              "    </tr>\n",
              "    <tr>\n",
              "      <th>2</th>\n",
              "      <td>1</td>\n",
              "      <td>1</td>\n",
              "      <td>Rede Estadual</td>\n",
              "      <td>1</td>\n",
              "      <td>12</td>\n",
              "      <td>AYRES DE MOURA PROFESSOR                      ...</td>\n",
              "      <td>7º Ano EF</td>\n",
              "      <td>9</td>\n",
              "      <td>GERAL</td>\n",
              "      <td>1</td>\n",
              "      <td>LÍNGUA PORTUGUESA</td>\n",
              "      <td>222.8</td>\n",
              "      <td>&lt;class 'float'&gt;</td>\n",
              "    </tr>\n",
              "    <tr>\n",
              "      <th>3</th>\n",
              "      <td>1</td>\n",
              "      <td>1</td>\n",
              "      <td>Rede Estadual</td>\n",
              "      <td>1</td>\n",
              "      <td>12</td>\n",
              "      <td>AYRES DE MOURA PROFESSOR                      ...</td>\n",
              "      <td>7º Ano EF</td>\n",
              "      <td>9</td>\n",
              "      <td>GERAL</td>\n",
              "      <td>2</td>\n",
              "      <td>MATEMÁTICA</td>\n",
              "      <td>227.2</td>\n",
              "      <td>&lt;class 'float'&gt;</td>\n",
              "    </tr>\n",
              "    <tr>\n",
              "      <th>4</th>\n",
              "      <td>1</td>\n",
              "      <td>1</td>\n",
              "      <td>Rede Estadual</td>\n",
              "      <td>1</td>\n",
              "      <td>12</td>\n",
              "      <td>AYRES DE MOURA PROFESSOR                      ...</td>\n",
              "      <td>9º Ano EF</td>\n",
              "      <td>1</td>\n",
              "      <td>MANHA</td>\n",
              "      <td>1</td>\n",
              "      <td>LÍNGUA PORTUGUESA</td>\n",
              "      <td>231.6</td>\n",
              "      <td>&lt;class 'float'&gt;</td>\n",
              "    </tr>\n",
              "  </tbody>\n",
              "</table>\n",
              "</div>"
            ],
            "text/plain": [
              "   DEPADM  DepBol     NomeDepBol  ...            ds_comp  medprof tipo_var_medprof\n",
              "0       1       1  Rede Estadual  ...  LÍNGUA PORTUGUESA    222.8  <class 'float'>\n",
              "1       1       1  Rede Estadual  ...         MATEMÁTICA    227.2  <class 'float'>\n",
              "2       1       1  Rede Estadual  ...  LÍNGUA PORTUGUESA    222.8  <class 'float'>\n",
              "3       1       1  Rede Estadual  ...         MATEMÁTICA    227.2  <class 'float'>\n",
              "4       1       1  Rede Estadual  ...  LÍNGUA PORTUGUESA    231.6  <class 'float'>\n",
              "\n",
              "[5 rows x 13 columns]"
            ]
          },
          "metadata": {
            "tags": []
          },
          "execution_count": 68
        }
      ]
    },
    {
      "cell_type": "markdown",
      "metadata": {
        "id": "l7xnMq6Uelyi",
        "colab_type": "text"
      },
      "source": [
        "### Resolvemos os problemas, mas ainda estamos com os mesmos valores nulos"
      ]
    },
    {
      "cell_type": "code",
      "metadata": {
        "id": "RnwvvfxgcEaR",
        "colab_type": "code",
        "colab": {
          "base_uri": "https://localhost:8080/",
          "height": 372
        },
        "outputId": "1358a08b-e368-4a3d-ecbc-7f10b292c55e"
      },
      "source": [
        "# Observando quantos dados nulos tem o DataFrame\n",
        "# Só pra mostrar que ainda temos os mesmos dados nulos\n",
        "saresp.info()"
      ],
      "execution_count": 69,
      "outputs": [
        {
          "output_type": "stream",
          "text": [
            "<class 'pandas.core.frame.DataFrame'>\n",
            "RangeIndex: 54828 entries, 0 to 54827\n",
            "Data columns (total 13 columns):\n",
            " #   Column            Non-Null Count  Dtype \n",
            "---  ------            --------------  ----- \n",
            " 0   DEPADM            54828 non-null  int64 \n",
            " 1   DepBol            54828 non-null  int64 \n",
            " 2   NomeDepBol        54828 non-null  object\n",
            " 3   codRMet           54828 non-null  int64 \n",
            " 4   CODESC            54828 non-null  int64 \n",
            " 5   NOMESC            54828 non-null  object\n",
            " 6   SERIE_ANO         54828 non-null  object\n",
            " 7   cod_per           54828 non-null  int64 \n",
            " 8   periodo           54828 non-null  object\n",
            " 9   co_comp           54828 non-null  int64 \n",
            " 10  ds_comp           54828 non-null  object\n",
            " 11  medprof           52826 non-null  object\n",
            " 12  tipo_var_medprof  54828 non-null  object\n",
            "dtypes: int64(6), object(7)\n",
            "memory usage: 5.4+ MB\n"
          ],
          "name": "stdout"
        }
      ]
    },
    {
      "cell_type": "code",
      "metadata": {
        "id": "6Vc4fCbzcEaX",
        "colab_type": "code",
        "colab": {
          "base_uri": "https://localhost:8080/",
          "height": 265
        },
        "outputId": "63cd7a8a-eb43-44ef-b67b-693507d00fc5"
      },
      "source": [
        "# Observando quantos dados nulos tem o DataFrame de forma mais clara\n",
        "# Só pra mostrar de forma mais clara que ainda temos os mesmos dados nulos\n",
        "saresp.isnull().sum()"
      ],
      "execution_count": 70,
      "outputs": [
        {
          "output_type": "execute_result",
          "data": {
            "text/plain": [
              "DEPADM                 0\n",
              "DepBol                 0\n",
              "NomeDepBol             0\n",
              "codRMet                0\n",
              "CODESC                 0\n",
              "NOMESC                 0\n",
              "SERIE_ANO              0\n",
              "cod_per                0\n",
              "periodo                0\n",
              "co_comp                0\n",
              "ds_comp                0\n",
              "medprof             2002\n",
              "tipo_var_medprof       0\n",
              "dtype: int64"
            ]
          },
          "metadata": {
            "tags": []
          },
          "execution_count": 70
        }
      ]
    },
    {
      "cell_type": "markdown",
      "metadata": {
        "id": "WmGnpLOFe6Qx",
        "colab_type": "text"
      },
      "source": [
        "### Então, vamos fazer a substituição dos dados nulos por uma valor que seja a média dos valores da coluna. (Já podemos fazer isso, pois agora são todos do tipo float)"
      ]
    },
    {
      "cell_type": "code",
      "metadata": {
        "id": "HR-YigXQcEac",
        "colab_type": "code",
        "colab": {}
      },
      "source": [
        "# Substituindo os dados nulos pela média dos valores desta coluna\n",
        "saresp['medprof'].fillna(saresp['medprof'].mean(), inplace=True)"
      ],
      "execution_count": 0,
      "outputs": []
    },
    {
      "cell_type": "code",
      "metadata": {
        "id": "CYIhbG1ycEah",
        "colab_type": "code",
        "colab": {
          "base_uri": "https://localhost:8080/",
          "height": 265
        },
        "outputId": "c1460151-e6f0-41ec-a49a-64c4a14ac35b"
      },
      "source": [
        "# Observando que os dados nulos do DataFrame já se foram\n",
        "saresp.isnull().sum()"
      ],
      "execution_count": 72,
      "outputs": [
        {
          "output_type": "execute_result",
          "data": {
            "text/plain": [
              "DEPADM              0\n",
              "DepBol              0\n",
              "NomeDepBol          0\n",
              "codRMet             0\n",
              "CODESC              0\n",
              "NOMESC              0\n",
              "SERIE_ANO           0\n",
              "cod_per             0\n",
              "periodo             0\n",
              "co_comp             0\n",
              "ds_comp             0\n",
              "medprof             0\n",
              "tipo_var_medprof    0\n",
              "dtype: int64"
            ]
          },
          "metadata": {
            "tags": []
          },
          "execution_count": 72
        }
      ]
    },
    {
      "cell_type": "markdown",
      "metadata": {
        "id": "qhbOfK7hgTgt",
        "colab_type": "text"
      },
      "source": [
        "### Pronto! Agora temos a coluna 'medprof' com todos os valores preenchidos e todos do tipo float, o que nos permite fazer as contas que forem necessárias.\n",
        "\n",
        "### O bacana é que basta trocar o nome do arquivo lá no começo e baixar os datasets de outros anos e rodar o mesmo código, que rapidamente faremos a limpeza de todos eles."
      ]
    },
    {
      "cell_type": "markdown",
      "metadata": {
        "id": "J20ul_5ZhCe4",
        "colab_type": "text"
      },
      "source": [
        "### Se quiser é só exportar o dataset em formato .csv novamente"
      ]
    },
    {
      "cell_type": "code",
      "metadata": {
        "id": "o-PV6GincEak",
        "colab_type": "code",
        "colab": {}
      },
      "source": [
        "# Exportando o DataFrame para o formato .csv\n",
        "saresp.to_csv('SARESP_escolas_2016_modificado.csv', sep=';', index=False)"
      ],
      "execution_count": 0,
      "outputs": []
    }
  ]
}