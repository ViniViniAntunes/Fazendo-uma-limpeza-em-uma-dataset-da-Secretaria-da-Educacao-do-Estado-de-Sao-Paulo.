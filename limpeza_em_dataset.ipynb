{
  "nbformat": 4,
  "nbformat_minor": 0,
  "metadata": {
    "kernelspec": {
      "display_name": "Python 3",
      "language": "python",
      "name": "python3"
    },
    "language_info": {
      "codemirror_mode": {
        "name": "ipython",
        "version": 3
      },
      "file_extension": ".py",
      "mimetype": "text/x-python",
      "name": "python",
      "nbconvert_exporter": "python",
      "pygments_lexer": "ipython3",
      "version": "3.7.4"
    },
    "colab": {
      "name": "limpeza_em_dataset.ipynb",
      "provenance": [],
      "collapsed_sections": [],
      "include_colab_link": true
    }
  },
  "cells": [
    {
      "cell_type": "markdown",
      "metadata": {
        "id": "view-in-github",
        "colab_type": "text"
      },
      "source": [
        "<a href=\"https://colab.research.google.com/github/ViniViniAntunes/Fazendo-uma-limpeza-em-uma-dataset-da-Secretaria-da-Educacao-do-Estado-de-Sao-Paulo./blob/master/limpeza_em_dataset.ipynb\" target=\"_parent\"><img src=\"https://colab.research.google.com/assets/colab-badge.svg\" alt=\"Open In Colab\"/></a>"
      ]
    },
    {
      "cell_type": "markdown",
      "metadata": {
        "id": "MH_i7ERwhlQE",
        "colab_type": "text"
      },
      "source": [
        "# Fazendo uma limpeza em uma dataset da Secretaria da Educação do Estado de São Paulo.\n",
        "___\n",
        "### Os dados foram baixados do link:\n",
        "  https://dados.educacao.sp.gov.br/dataset/profici%C3%AAncia-do-sistema-de-avalia%C3%A7%C3%A3o-de-rendimento-escolar-do-estado-de-s%C3%A3o-paulo-saresp-por\n",
        "\n",
        "### Na data 05/04/2020"
      ]
    },
    {
      "cell_type": "markdown",
      "metadata": {
        "id": "vEhoa6vdiZhR",
        "colab_type": "text"
      },
      "source": [
        "### A limpeza foi feita por:\n",
        "\n",
        "#### Nome: Vini Antunes\n",
        "#### O que faz: professor de Física e estudande de Data Science\n",
        "#### Github: https://github.com/ViniViniAntunes\n",
        "#### LinkedIn: https://www.linkedin.com/in/vini-antunes/"
      ]
    },
    {
      "cell_type": "code",
      "metadata": {
        "id": "zkCLUR9YcEZz",
        "colab_type": "code",
        "colab": {}
      },
      "source": [
        "# Importando as bibliotecas utilizadas\n",
        "import pandas as pd\n",
        "import warnings\n",
        "warnings.filterwarnings(action='ignore')"
      ],
      "execution_count": 0,
      "outputs": []
    },
    {
      "cell_type": "code",
      "metadata": {
        "id": "NS4Bdj3ZcEZ6",
        "colab_type": "code",
        "outputId": "f8680637-aa85-4823-b896-7a2f099cd590",
        "colab": {
          "base_uri": "https://localhost:8080/",
          "height": 204
        }
      },
      "source": [
        "# Baixando o .csv e colocando em uma variável\n",
        "# Apenas no arquivo 'SARESP_escolas_2018.csv', é preciso trocar o parâmetro 'encoding' de 'utf-8' para 'latin-1'\n",
        "saresp = pd.read_csv('SARESP_escolas_2016.csv', sep=';', encoding='utf-8')\n",
        "\n",
        "# Visualizando os 5 primeiros linhas do DataFrame\n",
        "saresp.head(5)"
      ],
      "execution_count": 2,
      "outputs": [
        {
          "output_type": "execute_result",
          "data": {
            "text/html": [
              "<div>\n",
              "<style scoped>\n",
              "    .dataframe tbody tr th:only-of-type {\n",
              "        vertical-align: middle;\n",
              "    }\n",
              "\n",
              "    .dataframe tbody tr th {\n",
              "        vertical-align: top;\n",
              "    }\n",
              "\n",
              "    .dataframe thead th {\n",
              "        text-align: right;\n",
              "    }\n",
              "</style>\n",
              "<table border=\"1\" class=\"dataframe\">\n",
              "  <thead>\n",
              "    <tr style=\"text-align: right;\">\n",
              "      <th></th>\n",
              "      <th>DEPADM</th>\n",
              "      <th>DepBol</th>\n",
              "      <th>NomeDepBol</th>\n",
              "      <th>codRMet</th>\n",
              "      <th>CODESC</th>\n",
              "      <th>NOMESC</th>\n",
              "      <th>SERIE_ANO</th>\n",
              "      <th>cod_per</th>\n",
              "      <th>periodo</th>\n",
              "      <th>co_comp</th>\n",
              "      <th>ds_comp</th>\n",
              "      <th>medprof</th>\n",
              "    </tr>\n",
              "  </thead>\n",
              "  <tbody>\n",
              "    <tr>\n",
              "      <th>0</th>\n",
              "      <td>1</td>\n",
              "      <td>1</td>\n",
              "      <td>Rede Estadual</td>\n",
              "      <td>1</td>\n",
              "      <td>12</td>\n",
              "      <td>AYRES DE MOURA PROFESSOR                      ...</td>\n",
              "      <td>9º Ano EF</td>\n",
              "      <td>1</td>\n",
              "      <td>MANHA</td>\n",
              "      <td>1</td>\n",
              "      <td>LÍNGUA PORTUGUESA</td>\n",
              "      <td>241,5</td>\n",
              "    </tr>\n",
              "    <tr>\n",
              "      <th>1</th>\n",
              "      <td>1</td>\n",
              "      <td>1</td>\n",
              "      <td>Rede Estadual</td>\n",
              "      <td>1</td>\n",
              "      <td>12</td>\n",
              "      <td>AYRES DE MOURA PROFESSOR                      ...</td>\n",
              "      <td>9º Ano EF</td>\n",
              "      <td>1</td>\n",
              "      <td>MANHA</td>\n",
              "      <td>2</td>\n",
              "      <td>MATEMÁTICA</td>\n",
              "      <td>255,2</td>\n",
              "    </tr>\n",
              "    <tr>\n",
              "      <th>2</th>\n",
              "      <td>1</td>\n",
              "      <td>1</td>\n",
              "      <td>Rede Estadual</td>\n",
              "      <td>1</td>\n",
              "      <td>12</td>\n",
              "      <td>AYRES DE MOURA PROFESSOR                      ...</td>\n",
              "      <td>9º Ano EF</td>\n",
              "      <td>9</td>\n",
              "      <td>GERAL</td>\n",
              "      <td>1</td>\n",
              "      <td>LÍNGUA PORTUGUESA</td>\n",
              "      <td>241,5</td>\n",
              "    </tr>\n",
              "    <tr>\n",
              "      <th>3</th>\n",
              "      <td>1</td>\n",
              "      <td>1</td>\n",
              "      <td>Rede Estadual</td>\n",
              "      <td>1</td>\n",
              "      <td>12</td>\n",
              "      <td>AYRES DE MOURA PROFESSOR                      ...</td>\n",
              "      <td>9º Ano EF</td>\n",
              "      <td>9</td>\n",
              "      <td>GERAL</td>\n",
              "      <td>2</td>\n",
              "      <td>MATEMÁTICA</td>\n",
              "      <td>255,2</td>\n",
              "    </tr>\n",
              "    <tr>\n",
              "      <th>4</th>\n",
              "      <td>1</td>\n",
              "      <td>1</td>\n",
              "      <td>Rede Estadual</td>\n",
              "      <td>1</td>\n",
              "      <td>24</td>\n",
              "      <td>GAVIAO PEIXOTO BRIGADEIRO                     ...</td>\n",
              "      <td>3º Ano EF</td>\n",
              "      <td>2</td>\n",
              "      <td>TARDE</td>\n",
              "      <td>1</td>\n",
              "      <td>LÍNGUA PORTUGUESA</td>\n",
              "      <td>164,7</td>\n",
              "    </tr>\n",
              "  </tbody>\n",
              "</table>\n",
              "</div>"
            ],
            "text/plain": [
              "   DEPADM  DepBol     NomeDepBol  ...  co_comp            ds_comp medprof\n",
              "0       1       1  Rede Estadual  ...        1  LÍNGUA PORTUGUESA   241,5\n",
              "1       1       1  Rede Estadual  ...        2         MATEMÁTICA   255,2\n",
              "2       1       1  Rede Estadual  ...        1  LÍNGUA PORTUGUESA   241,5\n",
              "3       1       1  Rede Estadual  ...        2         MATEMÁTICA   255,2\n",
              "4       1       1  Rede Estadual  ...        1  LÍNGUA PORTUGUESA   164,7\n",
              "\n",
              "[5 rows x 12 columns]"
            ]
          },
          "metadata": {
            "tags": []
          },
          "execution_count": 2
        }
      ]
    },
    {
      "cell_type": "code",
      "metadata": {
        "id": "8X-t7axhcEaA",
        "colab_type": "code",
        "outputId": "d2ff9436-8761-4c83-e238-7e80a25b07d6",
        "colab": {
          "base_uri": "https://localhost:8080/",
          "height": 34
        }
      },
      "source": [
        "# Mostrando o tamanho do DataFrame\n",
        "saresp.shape"
      ],
      "execution_count": 3,
      "outputs": [
        {
          "output_type": "execute_result",
          "data": {
            "text/plain": [
              "(54700, 12)"
            ]
          },
          "metadata": {
            "tags": []
          },
          "execution_count": 3
        }
      ]
    },
    {
      "cell_type": "code",
      "metadata": {
        "id": "nBtqraA7cEaE",
        "colab_type": "code",
        "outputId": "10a13459-8d16-4b72-beea-a8fd58863d81",
        "colab": {
          "base_uri": "https://localhost:8080/",
          "height": 340
        }
      },
      "source": [
        "# Observando quantos dados nulos tem o DataFrame\n",
        "saresp.info()"
      ],
      "execution_count": 4,
      "outputs": [
        {
          "output_type": "stream",
          "text": [
            "<class 'pandas.core.frame.DataFrame'>\n",
            "RangeIndex: 54700 entries, 0 to 54699\n",
            "Data columns (total 12 columns):\n",
            " #   Column      Non-Null Count  Dtype \n",
            "---  ------      --------------  ----- \n",
            " 0   DEPADM      54700 non-null  int64 \n",
            " 1   DepBol      54700 non-null  int64 \n",
            " 2   NomeDepBol  54700 non-null  object\n",
            " 3   codRMet     54700 non-null  int64 \n",
            " 4   CODESC      54700 non-null  int64 \n",
            " 5   NOMESC      54700 non-null  object\n",
            " 6   SERIE_ANO   54700 non-null  object\n",
            " 7   cod_per     54700 non-null  int64 \n",
            " 8   periodo     54700 non-null  object\n",
            " 9   co_comp     54700 non-null  int64 \n",
            " 10  ds_comp     54700 non-null  object\n",
            " 11  medprof     54695 non-null  object\n",
            "dtypes: int64(6), object(6)\n",
            "memory usage: 5.0+ MB\n"
          ],
          "name": "stdout"
        }
      ]
    },
    {
      "cell_type": "code",
      "metadata": {
        "id": "38NksrA6cEaJ",
        "colab_type": "code",
        "outputId": "9632e79e-7d16-4c01-af03-0798a25cf524",
        "colab": {
          "base_uri": "https://localhost:8080/",
          "height": 238
        }
      },
      "source": [
        "# Observando quantos dados nulos tem o DataFrame de forma mais clara\n",
        "saresp.isnull().sum()"
      ],
      "execution_count": 5,
      "outputs": [
        {
          "output_type": "execute_result",
          "data": {
            "text/plain": [
              "DEPADM        0\n",
              "DepBol        0\n",
              "NomeDepBol    0\n",
              "codRMet       0\n",
              "CODESC        0\n",
              "NOMESC        0\n",
              "SERIE_ANO     0\n",
              "cod_per       0\n",
              "periodo       0\n",
              "co_comp       0\n",
              "ds_comp       0\n",
              "medprof       5\n",
              "dtype: int64"
            ]
          },
          "metadata": {
            "tags": []
          },
          "execution_count": 5
        }
      ]
    },
    {
      "cell_type": "code",
      "metadata": {
        "id": "nMf4BK8S5wkC",
        "colab_type": "code",
        "colab": {
          "base_uri": "https://localhost:8080/",
          "height": 142
        },
        "outputId": "9885ace9-03ec-4066-aebd-2573d24adfa9"
      },
      "source": [
        "# Criando uma coluna nova ('tipo_var_medprof') com os tipos das variáveis em cada linha da coluna 'medprof'\n",
        "saresp['tipo_var_medprof'] = saresp['medprof'].apply(type)\n",
        "saresp.head(3)"
      ],
      "execution_count": 6,
      "outputs": [
        {
          "output_type": "execute_result",
          "data": {
            "text/html": [
              "<div>\n",
              "<style scoped>\n",
              "    .dataframe tbody tr th:only-of-type {\n",
              "        vertical-align: middle;\n",
              "    }\n",
              "\n",
              "    .dataframe tbody tr th {\n",
              "        vertical-align: top;\n",
              "    }\n",
              "\n",
              "    .dataframe thead th {\n",
              "        text-align: right;\n",
              "    }\n",
              "</style>\n",
              "<table border=\"1\" class=\"dataframe\">\n",
              "  <thead>\n",
              "    <tr style=\"text-align: right;\">\n",
              "      <th></th>\n",
              "      <th>DEPADM</th>\n",
              "      <th>DepBol</th>\n",
              "      <th>NomeDepBol</th>\n",
              "      <th>codRMet</th>\n",
              "      <th>CODESC</th>\n",
              "      <th>NOMESC</th>\n",
              "      <th>SERIE_ANO</th>\n",
              "      <th>cod_per</th>\n",
              "      <th>periodo</th>\n",
              "      <th>co_comp</th>\n",
              "      <th>ds_comp</th>\n",
              "      <th>medprof</th>\n",
              "      <th>tipo_var_medprof</th>\n",
              "    </tr>\n",
              "  </thead>\n",
              "  <tbody>\n",
              "    <tr>\n",
              "      <th>0</th>\n",
              "      <td>1</td>\n",
              "      <td>1</td>\n",
              "      <td>Rede Estadual</td>\n",
              "      <td>1</td>\n",
              "      <td>12</td>\n",
              "      <td>AYRES DE MOURA PROFESSOR                      ...</td>\n",
              "      <td>9º Ano EF</td>\n",
              "      <td>1</td>\n",
              "      <td>MANHA</td>\n",
              "      <td>1</td>\n",
              "      <td>LÍNGUA PORTUGUESA</td>\n",
              "      <td>241,5</td>\n",
              "      <td>&lt;class 'str'&gt;</td>\n",
              "    </tr>\n",
              "    <tr>\n",
              "      <th>1</th>\n",
              "      <td>1</td>\n",
              "      <td>1</td>\n",
              "      <td>Rede Estadual</td>\n",
              "      <td>1</td>\n",
              "      <td>12</td>\n",
              "      <td>AYRES DE MOURA PROFESSOR                      ...</td>\n",
              "      <td>9º Ano EF</td>\n",
              "      <td>1</td>\n",
              "      <td>MANHA</td>\n",
              "      <td>2</td>\n",
              "      <td>MATEMÁTICA</td>\n",
              "      <td>255,2</td>\n",
              "      <td>&lt;class 'str'&gt;</td>\n",
              "    </tr>\n",
              "    <tr>\n",
              "      <th>2</th>\n",
              "      <td>1</td>\n",
              "      <td>1</td>\n",
              "      <td>Rede Estadual</td>\n",
              "      <td>1</td>\n",
              "      <td>12</td>\n",
              "      <td>AYRES DE MOURA PROFESSOR                      ...</td>\n",
              "      <td>9º Ano EF</td>\n",
              "      <td>9</td>\n",
              "      <td>GERAL</td>\n",
              "      <td>1</td>\n",
              "      <td>LÍNGUA PORTUGUESA</td>\n",
              "      <td>241,5</td>\n",
              "      <td>&lt;class 'str'&gt;</td>\n",
              "    </tr>\n",
              "  </tbody>\n",
              "</table>\n",
              "</div>"
            ],
            "text/plain": [
              "   DEPADM  DepBol     NomeDepBol  ...            ds_comp  medprof tipo_var_medprof\n",
              "0       1       1  Rede Estadual  ...  LÍNGUA PORTUGUESA    241,5    <class 'str'>\n",
              "1       1       1  Rede Estadual  ...         MATEMÁTICA    255,2    <class 'str'>\n",
              "2       1       1  Rede Estadual  ...  LÍNGUA PORTUGUESA    241,5    <class 'str'>\n",
              "\n",
              "[3 rows x 13 columns]"
            ]
          },
          "metadata": {
            "tags": []
          },
          "execution_count": 6
        }
      ]
    },
    {
      "cell_type": "markdown",
      "metadata": {
        "id": "QCBcBa7yai39",
        "colab_type": "text"
      },
      "source": [
        "### Note que temos dois tipos de variáveis na coluna 'medprof', string e float. Isso nos impede de fazer qualquer tipo de conta com os valores dessa coluna. Como por exemplo, fazer a substituição dos valores nulos pela média dos valores da coluna."
      ]
    },
    {
      "cell_type": "code",
      "metadata": {
        "id": "HoRj9fhRdbq-",
        "colab_type": "code",
        "outputId": "f52534b3-429b-4c46-c364-c25f0d608263",
        "colab": {
          "base_uri": "https://localhost:8080/",
          "height": 34
        }
      },
      "source": [
        "# Mostrando os diferentes tipos de variáveis\n",
        "saresp['tipo_var_medprof'].unique()"
      ],
      "execution_count": 7,
      "outputs": [
        {
          "output_type": "execute_result",
          "data": {
            "text/plain": [
              "array([<class 'str'>, <class 'float'>], dtype=object)"
            ]
          },
          "metadata": {
            "tags": []
          },
          "execution_count": 7
        }
      ]
    },
    {
      "cell_type": "markdown",
      "metadata": {
        "id": "ckhjVRCca-Rr",
        "colab_type": "text"
      },
      "source": [
        "### Se quisermos realizar contas com esses valores, teremos que trocar as variáveis do tipo string para o tipo float. Porém, essas que são do tipo string, estão escritas com vígula ' , ' no lugar do ponto ' . '. Então temos dois problemas para resolver:\n",
        "<ol>\n",
        "  <li> Trocar a vírgula por um ponto ( , por . ); </li>\n",
        "  <li> Trocar para o tipo float todas as variáveis que forem do tipo string </li>\n",
        "</ol>"
      ]
    },
    {
      "cell_type": "markdown",
      "metadata": {
        "id": "WcBZQ0J0gCIo",
        "colab_type": "text"
      },
      "source": [
        "### Resolvendo os problemas"
      ]
    },
    {
      "cell_type": "code",
      "metadata": {
        "id": "Q-e2Igwndbo2",
        "colab_type": "code",
        "outputId": "304eac31-acef-4cff-c944-6d569ec6f276",
        "colab": {
          "base_uri": "https://localhost:8080/",
          "height": 34
        }
      },
      "source": [
        "# ANTES da transformação\n",
        "print('{} do tipo {}'.format(saresp['medprof'][0], type(saresp['medprof'][0])))"
      ],
      "execution_count": 8,
      "outputs": [
        {
          "output_type": "stream",
          "text": [
            "241,5 do tipo <class 'str'>\n"
          ],
          "name": "stdout"
        }
      ]
    },
    {
      "cell_type": "code",
      "metadata": {
        "id": "cqqMAFve5Orz",
        "colab_type": "code",
        "colab": {
          "base_uri": "https://localhost:8080/",
          "height": 221
        },
        "outputId": "b4d11e14-a5fa-46d6-bbcd-06d4adc29a13"
      },
      "source": [
        "# Transformando somente os valores tipo string da coluna 'medprof' para tipo float\n",
        "saresp['medprof'] = saresp['medprof'].apply(lambda x: float(x.replace(',', '.')) if type(x) == str else x)\n",
        "saresp['medprof']"
      ],
      "execution_count": 9,
      "outputs": [
        {
          "output_type": "execute_result",
          "data": {
            "text/plain": [
              "0        241.5\n",
              "1        255.2\n",
              "2        241.5\n",
              "3        255.2\n",
              "4        164.7\n",
              "         ...  \n",
              "54695    223.3\n",
              "54696    235.1\n",
              "54697    239.5\n",
              "54698    233.1\n",
              "54699    231.4\n",
              "Name: medprof, Length: 54700, dtype: float64"
            ]
          },
          "metadata": {
            "tags": []
          },
          "execution_count": 9
        }
      ]
    },
    {
      "cell_type": "code",
      "metadata": {
        "id": "AgTDHBqGdbB5",
        "colab_type": "code",
        "outputId": "eb8bb289-32c2-4a96-c441-c0b1aa050be0",
        "colab": {
          "base_uri": "https://localhost:8080/",
          "height": 34
        }
      },
      "source": [
        "# DEPOIS da transformação\n",
        "print('{} do tipo {}'.format(saresp['medprof'][0], type(saresp['medprof'][0])))"
      ],
      "execution_count": 10,
      "outputs": [
        {
          "output_type": "stream",
          "text": [
            "241.5 do tipo <class 'numpy.float64'>\n"
          ],
          "name": "stdout"
        }
      ]
    },
    {
      "cell_type": "code",
      "metadata": {
        "id": "bBbFTEZgda2b",
        "colab_type": "code",
        "outputId": "7615e77d-3416-4700-e81a-e3061d674cb8",
        "colab": {
          "base_uri": "https://localhost:8080/",
          "height": 204
        }
      },
      "source": [
        "# Atualizando a coluna 'tipo_var_medprof' com os novos tipos das variáveis da coluna 'medprof'\n",
        "saresp['tipo_var_medprof'] = saresp['medprof'].apply(type)\n",
        "saresp.head(5) "
      ],
      "execution_count": 11,
      "outputs": [
        {
          "output_type": "execute_result",
          "data": {
            "text/html": [
              "<div>\n",
              "<style scoped>\n",
              "    .dataframe tbody tr th:only-of-type {\n",
              "        vertical-align: middle;\n",
              "    }\n",
              "\n",
              "    .dataframe tbody tr th {\n",
              "        vertical-align: top;\n",
              "    }\n",
              "\n",
              "    .dataframe thead th {\n",
              "        text-align: right;\n",
              "    }\n",
              "</style>\n",
              "<table border=\"1\" class=\"dataframe\">\n",
              "  <thead>\n",
              "    <tr style=\"text-align: right;\">\n",
              "      <th></th>\n",
              "      <th>DEPADM</th>\n",
              "      <th>DepBol</th>\n",
              "      <th>NomeDepBol</th>\n",
              "      <th>codRMet</th>\n",
              "      <th>CODESC</th>\n",
              "      <th>NOMESC</th>\n",
              "      <th>SERIE_ANO</th>\n",
              "      <th>cod_per</th>\n",
              "      <th>periodo</th>\n",
              "      <th>co_comp</th>\n",
              "      <th>ds_comp</th>\n",
              "      <th>medprof</th>\n",
              "      <th>tipo_var_medprof</th>\n",
              "    </tr>\n",
              "  </thead>\n",
              "  <tbody>\n",
              "    <tr>\n",
              "      <th>0</th>\n",
              "      <td>1</td>\n",
              "      <td>1</td>\n",
              "      <td>Rede Estadual</td>\n",
              "      <td>1</td>\n",
              "      <td>12</td>\n",
              "      <td>AYRES DE MOURA PROFESSOR                      ...</td>\n",
              "      <td>9º Ano EF</td>\n",
              "      <td>1</td>\n",
              "      <td>MANHA</td>\n",
              "      <td>1</td>\n",
              "      <td>LÍNGUA PORTUGUESA</td>\n",
              "      <td>241.5</td>\n",
              "      <td>&lt;class 'float'&gt;</td>\n",
              "    </tr>\n",
              "    <tr>\n",
              "      <th>1</th>\n",
              "      <td>1</td>\n",
              "      <td>1</td>\n",
              "      <td>Rede Estadual</td>\n",
              "      <td>1</td>\n",
              "      <td>12</td>\n",
              "      <td>AYRES DE MOURA PROFESSOR                      ...</td>\n",
              "      <td>9º Ano EF</td>\n",
              "      <td>1</td>\n",
              "      <td>MANHA</td>\n",
              "      <td>2</td>\n",
              "      <td>MATEMÁTICA</td>\n",
              "      <td>255.2</td>\n",
              "      <td>&lt;class 'float'&gt;</td>\n",
              "    </tr>\n",
              "    <tr>\n",
              "      <th>2</th>\n",
              "      <td>1</td>\n",
              "      <td>1</td>\n",
              "      <td>Rede Estadual</td>\n",
              "      <td>1</td>\n",
              "      <td>12</td>\n",
              "      <td>AYRES DE MOURA PROFESSOR                      ...</td>\n",
              "      <td>9º Ano EF</td>\n",
              "      <td>9</td>\n",
              "      <td>GERAL</td>\n",
              "      <td>1</td>\n",
              "      <td>LÍNGUA PORTUGUESA</td>\n",
              "      <td>241.5</td>\n",
              "      <td>&lt;class 'float'&gt;</td>\n",
              "    </tr>\n",
              "    <tr>\n",
              "      <th>3</th>\n",
              "      <td>1</td>\n",
              "      <td>1</td>\n",
              "      <td>Rede Estadual</td>\n",
              "      <td>1</td>\n",
              "      <td>12</td>\n",
              "      <td>AYRES DE MOURA PROFESSOR                      ...</td>\n",
              "      <td>9º Ano EF</td>\n",
              "      <td>9</td>\n",
              "      <td>GERAL</td>\n",
              "      <td>2</td>\n",
              "      <td>MATEMÁTICA</td>\n",
              "      <td>255.2</td>\n",
              "      <td>&lt;class 'float'&gt;</td>\n",
              "    </tr>\n",
              "    <tr>\n",
              "      <th>4</th>\n",
              "      <td>1</td>\n",
              "      <td>1</td>\n",
              "      <td>Rede Estadual</td>\n",
              "      <td>1</td>\n",
              "      <td>24</td>\n",
              "      <td>GAVIAO PEIXOTO BRIGADEIRO                     ...</td>\n",
              "      <td>3º Ano EF</td>\n",
              "      <td>2</td>\n",
              "      <td>TARDE</td>\n",
              "      <td>1</td>\n",
              "      <td>LÍNGUA PORTUGUESA</td>\n",
              "      <td>164.7</td>\n",
              "      <td>&lt;class 'float'&gt;</td>\n",
              "    </tr>\n",
              "  </tbody>\n",
              "</table>\n",
              "</div>"
            ],
            "text/plain": [
              "   DEPADM  DepBol     NomeDepBol  ...            ds_comp  medprof tipo_var_medprof\n",
              "0       1       1  Rede Estadual  ...  LÍNGUA PORTUGUESA    241.5  <class 'float'>\n",
              "1       1       1  Rede Estadual  ...         MATEMÁTICA    255.2  <class 'float'>\n",
              "2       1       1  Rede Estadual  ...  LÍNGUA PORTUGUESA    241.5  <class 'float'>\n",
              "3       1       1  Rede Estadual  ...         MATEMÁTICA    255.2  <class 'float'>\n",
              "4       1       1  Rede Estadual  ...  LÍNGUA PORTUGUESA    164.7  <class 'float'>\n",
              "\n",
              "[5 rows x 13 columns]"
            ]
          },
          "metadata": {
            "tags": []
          },
          "execution_count": 11
        }
      ]
    },
    {
      "cell_type": "code",
      "metadata": {
        "id": "hbBo-7EE74TV",
        "colab_type": "code",
        "colab": {
          "base_uri": "https://localhost:8080/",
          "height": 34
        },
        "outputId": "f7ba9c8b-f8af-47a0-a1dd-99669feb844b"
      },
      "source": [
        "# Mostrando os diferentes tipos de variáveis atualizados\n",
        "saresp['tipo_var_medprof'].unique()"
      ],
      "execution_count": 12,
      "outputs": [
        {
          "output_type": "execute_result",
          "data": {
            "text/plain": [
              "array([<class 'float'>], dtype=object)"
            ]
          },
          "metadata": {
            "tags": []
          },
          "execution_count": 12
        }
      ]
    },
    {
      "cell_type": "markdown",
      "metadata": {
        "id": "l7xnMq6Uelyi",
        "colab_type": "text"
      },
      "source": [
        "### Resolvemos os problemas, mas ainda estamos com os mesmos valores nulos"
      ]
    },
    {
      "cell_type": "code",
      "metadata": {
        "id": "RnwvvfxgcEaR",
        "colab_type": "code",
        "outputId": "a4d1d49e-9351-4ccf-dea7-b79c86348530",
        "colab": {
          "base_uri": "https://localhost:8080/",
          "height": 357
        }
      },
      "source": [
        "# Observando quantos dados nulos tem o DataFrame\n",
        "# Só pra mostrar que ainda temos os mesmos dados nulos\n",
        "saresp.info()"
      ],
      "execution_count": 13,
      "outputs": [
        {
          "output_type": "stream",
          "text": [
            "<class 'pandas.core.frame.DataFrame'>\n",
            "RangeIndex: 54700 entries, 0 to 54699\n",
            "Data columns (total 13 columns):\n",
            " #   Column            Non-Null Count  Dtype  \n",
            "---  ------            --------------  -----  \n",
            " 0   DEPADM            54700 non-null  int64  \n",
            " 1   DepBol            54700 non-null  int64  \n",
            " 2   NomeDepBol        54700 non-null  object \n",
            " 3   codRMet           54700 non-null  int64  \n",
            " 4   CODESC            54700 non-null  int64  \n",
            " 5   NOMESC            54700 non-null  object \n",
            " 6   SERIE_ANO         54700 non-null  object \n",
            " 7   cod_per           54700 non-null  int64  \n",
            " 8   periodo           54700 non-null  object \n",
            " 9   co_comp           54700 non-null  int64  \n",
            " 10  ds_comp           54700 non-null  object \n",
            " 11  medprof           54695 non-null  float64\n",
            " 12  tipo_var_medprof  54700 non-null  object \n",
            "dtypes: float64(1), int64(6), object(6)\n",
            "memory usage: 5.4+ MB\n"
          ],
          "name": "stdout"
        }
      ]
    },
    {
      "cell_type": "code",
      "metadata": {
        "id": "6Vc4fCbzcEaX",
        "colab_type": "code",
        "outputId": "c8af8cdf-5f48-45e6-ef0c-a4fec64f1088",
        "colab": {
          "base_uri": "https://localhost:8080/",
          "height": 255
        }
      },
      "source": [
        "# Observando quantos dados nulos tem o DataFrame de forma mais clara\n",
        "# Só pra mostrar de forma mais clara que ainda temos os mesmos dados nulos\n",
        "saresp.isnull().sum()"
      ],
      "execution_count": 14,
      "outputs": [
        {
          "output_type": "execute_result",
          "data": {
            "text/plain": [
              "DEPADM              0\n",
              "DepBol              0\n",
              "NomeDepBol          0\n",
              "codRMet             0\n",
              "CODESC              0\n",
              "NOMESC              0\n",
              "SERIE_ANO           0\n",
              "cod_per             0\n",
              "periodo             0\n",
              "co_comp             0\n",
              "ds_comp             0\n",
              "medprof             5\n",
              "tipo_var_medprof    0\n",
              "dtype: int64"
            ]
          },
          "metadata": {
            "tags": []
          },
          "execution_count": 14
        }
      ]
    },
    {
      "cell_type": "markdown",
      "metadata": {
        "id": "WmGnpLOFe6Qx",
        "colab_type": "text"
      },
      "source": [
        "### Então, vamos fazer a substituição dos dados nulos por uma valor que seja a média dos valores da coluna. (Já podemos fazer isso, pois agora são todos do tipo float)"
      ]
    },
    {
      "cell_type": "code",
      "metadata": {
        "id": "HR-YigXQcEac",
        "colab_type": "code",
        "colab": {}
      },
      "source": [
        "# Substituindo os dados nulos pela média dos valores desta coluna\n",
        "saresp['medprof'].fillna(saresp['medprof'].mean(), inplace=True)"
      ],
      "execution_count": 0,
      "outputs": []
    },
    {
      "cell_type": "code",
      "metadata": {
        "id": "CYIhbG1ycEah",
        "colab_type": "code",
        "outputId": "f992d093-17aa-4254-8d4d-262b5166c9ed",
        "colab": {
          "base_uri": "https://localhost:8080/",
          "height": 255
        }
      },
      "source": [
        "# Observando que os dados nulos do DataFrame já se foram\n",
        "saresp.isnull().sum()"
      ],
      "execution_count": 16,
      "outputs": [
        {
          "output_type": "execute_result",
          "data": {
            "text/plain": [
              "DEPADM              0\n",
              "DepBol              0\n",
              "NomeDepBol          0\n",
              "codRMet             0\n",
              "CODESC              0\n",
              "NOMESC              0\n",
              "SERIE_ANO           0\n",
              "cod_per             0\n",
              "periodo             0\n",
              "co_comp             0\n",
              "ds_comp             0\n",
              "medprof             0\n",
              "tipo_var_medprof    0\n",
              "dtype: int64"
            ]
          },
          "metadata": {
            "tags": []
          },
          "execution_count": 16
        }
      ]
    },
    {
      "cell_type": "markdown",
      "metadata": {
        "id": "sTXze5o6MGy7",
        "colab_type": "text"
      },
      "source": [
        "### Como não precisamos mais da coluna 'tipo_var_medprof', podemos retirá-la"
      ]
    },
    {
      "cell_type": "code",
      "metadata": {
        "id": "CP8C1ldzK2_4",
        "colab_type": "code",
        "outputId": "17c47355-7d67-4792-ddce-529518c0dcbf",
        "colab": {
          "base_uri": "https://localhost:8080/",
          "height": 204
        }
      },
      "source": [
        "# Removendo a coluna 'tipo_var_medprof' que acrescentamos antes só para analisar os tipos de variáveis da coluna 'medprof'\n",
        "saresp.drop(columns=['tipo_var_medprof'], inplace=True)\n",
        "saresp.head()"
      ],
      "execution_count": 17,
      "outputs": [
        {
          "output_type": "execute_result",
          "data": {
            "text/html": [
              "<div>\n",
              "<style scoped>\n",
              "    .dataframe tbody tr th:only-of-type {\n",
              "        vertical-align: middle;\n",
              "    }\n",
              "\n",
              "    .dataframe tbody tr th {\n",
              "        vertical-align: top;\n",
              "    }\n",
              "\n",
              "    .dataframe thead th {\n",
              "        text-align: right;\n",
              "    }\n",
              "</style>\n",
              "<table border=\"1\" class=\"dataframe\">\n",
              "  <thead>\n",
              "    <tr style=\"text-align: right;\">\n",
              "      <th></th>\n",
              "      <th>DEPADM</th>\n",
              "      <th>DepBol</th>\n",
              "      <th>NomeDepBol</th>\n",
              "      <th>codRMet</th>\n",
              "      <th>CODESC</th>\n",
              "      <th>NOMESC</th>\n",
              "      <th>SERIE_ANO</th>\n",
              "      <th>cod_per</th>\n",
              "      <th>periodo</th>\n",
              "      <th>co_comp</th>\n",
              "      <th>ds_comp</th>\n",
              "      <th>medprof</th>\n",
              "    </tr>\n",
              "  </thead>\n",
              "  <tbody>\n",
              "    <tr>\n",
              "      <th>0</th>\n",
              "      <td>1</td>\n",
              "      <td>1</td>\n",
              "      <td>Rede Estadual</td>\n",
              "      <td>1</td>\n",
              "      <td>12</td>\n",
              "      <td>AYRES DE MOURA PROFESSOR                      ...</td>\n",
              "      <td>9º Ano EF</td>\n",
              "      <td>1</td>\n",
              "      <td>MANHA</td>\n",
              "      <td>1</td>\n",
              "      <td>LÍNGUA PORTUGUESA</td>\n",
              "      <td>241.5</td>\n",
              "    </tr>\n",
              "    <tr>\n",
              "      <th>1</th>\n",
              "      <td>1</td>\n",
              "      <td>1</td>\n",
              "      <td>Rede Estadual</td>\n",
              "      <td>1</td>\n",
              "      <td>12</td>\n",
              "      <td>AYRES DE MOURA PROFESSOR                      ...</td>\n",
              "      <td>9º Ano EF</td>\n",
              "      <td>1</td>\n",
              "      <td>MANHA</td>\n",
              "      <td>2</td>\n",
              "      <td>MATEMÁTICA</td>\n",
              "      <td>255.2</td>\n",
              "    </tr>\n",
              "    <tr>\n",
              "      <th>2</th>\n",
              "      <td>1</td>\n",
              "      <td>1</td>\n",
              "      <td>Rede Estadual</td>\n",
              "      <td>1</td>\n",
              "      <td>12</td>\n",
              "      <td>AYRES DE MOURA PROFESSOR                      ...</td>\n",
              "      <td>9º Ano EF</td>\n",
              "      <td>9</td>\n",
              "      <td>GERAL</td>\n",
              "      <td>1</td>\n",
              "      <td>LÍNGUA PORTUGUESA</td>\n",
              "      <td>241.5</td>\n",
              "    </tr>\n",
              "    <tr>\n",
              "      <th>3</th>\n",
              "      <td>1</td>\n",
              "      <td>1</td>\n",
              "      <td>Rede Estadual</td>\n",
              "      <td>1</td>\n",
              "      <td>12</td>\n",
              "      <td>AYRES DE MOURA PROFESSOR                      ...</td>\n",
              "      <td>9º Ano EF</td>\n",
              "      <td>9</td>\n",
              "      <td>GERAL</td>\n",
              "      <td>2</td>\n",
              "      <td>MATEMÁTICA</td>\n",
              "      <td>255.2</td>\n",
              "    </tr>\n",
              "    <tr>\n",
              "      <th>4</th>\n",
              "      <td>1</td>\n",
              "      <td>1</td>\n",
              "      <td>Rede Estadual</td>\n",
              "      <td>1</td>\n",
              "      <td>24</td>\n",
              "      <td>GAVIAO PEIXOTO BRIGADEIRO                     ...</td>\n",
              "      <td>3º Ano EF</td>\n",
              "      <td>2</td>\n",
              "      <td>TARDE</td>\n",
              "      <td>1</td>\n",
              "      <td>LÍNGUA PORTUGUESA</td>\n",
              "      <td>164.7</td>\n",
              "    </tr>\n",
              "  </tbody>\n",
              "</table>\n",
              "</div>"
            ],
            "text/plain": [
              "   DEPADM  DepBol     NomeDepBol  ...  co_comp            ds_comp medprof\n",
              "0       1       1  Rede Estadual  ...        1  LÍNGUA PORTUGUESA   241.5\n",
              "1       1       1  Rede Estadual  ...        2         MATEMÁTICA   255.2\n",
              "2       1       1  Rede Estadual  ...        1  LÍNGUA PORTUGUESA   241.5\n",
              "3       1       1  Rede Estadual  ...        2         MATEMÁTICA   255.2\n",
              "4       1       1  Rede Estadual  ...        1  LÍNGUA PORTUGUESA   164.7\n",
              "\n",
              "[5 rows x 12 columns]"
            ]
          },
          "metadata": {
            "tags": []
          },
          "execution_count": 17
        }
      ]
    },
    {
      "cell_type": "markdown",
      "metadata": {
        "id": "qhbOfK7hgTgt",
        "colab_type": "text"
      },
      "source": [
        "### Pronto! Agora temos a coluna 'medprof' com todos os valores preenchidos e todos do tipo float, o que nos permite fazer as contas que forem necessárias.\n",
        "\n",
        "### O bacana é que basta trocar o nome do arquivo lá no começo e baixar os datasets de outros anos e rodar o mesmo código, que rapidamente faremos a limpeza de todos eles."
      ]
    },
    {
      "cell_type": "markdown",
      "metadata": {
        "id": "J20ul_5ZhCe4",
        "colab_type": "text"
      },
      "source": [
        "### Se quiser é só exportar o dataset em formato .csv novamente"
      ]
    },
    {
      "cell_type": "code",
      "metadata": {
        "id": "o-PV6GincEak",
        "colab_type": "code",
        "colab": {}
      },
      "source": [
        "# Exportando o DataFrame para o formato .csv\n",
        "#saresp.to_csv('SARESP_escolas_2016_modificado.csv', sep=';', index=False)"
      ],
      "execution_count": 0,
      "outputs": []
    }
  ]
}